{
 "cells": [
  {
   "cell_type": "code",
   "execution_count": 4,
   "id": "7d1fb50d",
   "metadata": {},
   "outputs": [
    {
     "name": "stderr",
     "output_type": "stream",
     "text": [
      "c:\\Users\\HP\\AppData\\Local\\Programs\\Python\\Python311\\Lib\\site-packages\\tqdm\\auto.py:21: TqdmWarning: IProgress not found. Please update jupyter and ipywidgets. See https://ipywidgets.readthedocs.io/en/stable/user_install.html\n",
      "  from .autonotebook import tqdm as notebook_tqdm\n"
     ]
    },
    {
     "name": "stdout",
     "output_type": "stream",
     "text": [
      "Downloading from https://www.kaggle.com/api/v1/datasets/download/rohanrao/nifty50-stock-market-data?dataset_version_number=15...\n"
     ]
    },
    {
     "name": "stderr",
     "output_type": "stream",
     "text": [
      "100%|██████████| 18.4M/18.4M [00:07<00:00, 2.45MB/s]"
     ]
    },
    {
     "name": "stdout",
     "output_type": "stream",
     "text": [
      "Extracting files...\n"
     ]
    },
    {
     "name": "stderr",
     "output_type": "stream",
     "text": [
      "\n"
     ]
    },
    {
     "name": "stdout",
     "output_type": "stream",
     "text": [
      "Data source import complete.\n"
     ]
    }
   ],
   "source": [
    "import numpy as np # linear algebra\n",
    "import pandas as pd # data processing, CSV file I/O (e.g. pd.read_csv)\n",
    "import os\n",
    "import matplotlib.pyplot as plt\n",
    "import seaborn as sns\n",
    "import plotly.express as px\n",
    "\n",
    "import kagglehub\n",
    "rohanrao_nifty50_stock_market_data_path = kagglehub.dataset_download('rohanrao/nifty50-stock-market-data')\n",
    "\n",
    "print('Data source import complete.')"
   ]
  },
  {
   "cell_type": "code",
   "execution_count": 5,
   "id": "31e78758",
   "metadata": {},
   "outputs": [
    {
     "name": "stdout",
     "output_type": "stream",
     "text": [
      "Requirement already satisfied: seaborn in c:\\users\\hp\\appdata\\local\\programs\\python\\python311\\lib\\site-packages (0.13.2)\n",
      "Requirement already satisfied: numpy!=1.24.0,>=1.20 in c:\\users\\hp\\appdata\\local\\programs\\python\\python311\\lib\\site-packages (from seaborn) (2.1.3)\n",
      "Requirement already satisfied: pandas>=1.2 in c:\\users\\hp\\appdata\\local\\programs\\python\\python311\\lib\\site-packages (from seaborn) (2.2.3)\n",
      "Requirement already satisfied: matplotlib!=3.6.1,>=3.4 in c:\\users\\hp\\appdata\\local\\programs\\python\\python311\\lib\\site-packages (from seaborn) (3.10.1)\n",
      "Requirement already satisfied: contourpy>=1.0.1 in c:\\users\\hp\\appdata\\local\\programs\\python\\python311\\lib\\site-packages (from matplotlib!=3.6.1,>=3.4->seaborn) (1.3.2)\n",
      "Requirement already satisfied: cycler>=0.10 in c:\\users\\hp\\appdata\\local\\programs\\python\\python311\\lib\\site-packages (from matplotlib!=3.6.1,>=3.4->seaborn) (0.12.1)\n",
      "Requirement already satisfied: fonttools>=4.22.0 in c:\\users\\hp\\appdata\\local\\programs\\python\\python311\\lib\\site-packages (from matplotlib!=3.6.1,>=3.4->seaborn) (4.57.0)\n",
      "Requirement already satisfied: kiwisolver>=1.3.1 in c:\\users\\hp\\appdata\\local\\programs\\python\\python311\\lib\\site-packages (from matplotlib!=3.6.1,>=3.4->seaborn) (1.4.8)\n",
      "Requirement already satisfied: packaging>=20.0 in c:\\users\\hp\\appdata\\local\\programs\\python\\python311\\lib\\site-packages (from matplotlib!=3.6.1,>=3.4->seaborn) (25.0)\n",
      "Requirement already satisfied: pillow>=8 in c:\\users\\hp\\appdata\\local\\programs\\python\\python311\\lib\\site-packages (from matplotlib!=3.6.1,>=3.4->seaborn) (11.2.1)\n",
      "Requirement already satisfied: pyparsing>=2.3.1 in c:\\users\\hp\\appdata\\local\\programs\\python\\python311\\lib\\site-packages (from matplotlib!=3.6.1,>=3.4->seaborn) (3.2.3)\n",
      "Requirement already satisfied: python-dateutil>=2.7 in c:\\users\\hp\\appdata\\local\\programs\\python\\python311\\lib\\site-packages (from matplotlib!=3.6.1,>=3.4->seaborn) (2.9.0.post0)\n",
      "Requirement already satisfied: pytz>=2020.1 in c:\\users\\hp\\appdata\\local\\programs\\python\\python311\\lib\\site-packages (from pandas>=1.2->seaborn) (2025.2)\n",
      "Requirement already satisfied: tzdata>=2022.7 in c:\\users\\hp\\appdata\\local\\programs\\python\\python311\\lib\\site-packages (from pandas>=1.2->seaborn) (2025.2)\n",
      "Requirement already satisfied: six>=1.5 in c:\\users\\hp\\appdata\\local\\programs\\python\\python311\\lib\\site-packages (from python-dateutil>=2.7->matplotlib!=3.6.1,>=3.4->seaborn) (1.17.0)\n",
      "Note: you may need to restart the kernel to use updated packages.\n"
     ]
    }
   ],
   "source": [
    "pip install seaborn\n"
   ]
  },
  {
   "cell_type": "code",
   "execution_count": 8,
   "id": "2da25d5c",
   "metadata": {},
   "outputs": [
    {
     "data": {
      "text/html": [
       "<div>\n",
       "<style scoped>\n",
       "    .dataframe tbody tr th:only-of-type {\n",
       "        vertical-align: middle;\n",
       "    }\n",
       "\n",
       "    .dataframe tbody tr th {\n",
       "        vertical-align: top;\n",
       "    }\n",
       "\n",
       "    .dataframe thead th {\n",
       "        text-align: right;\n",
       "    }\n",
       "</style>\n",
       "<table border=\"1\" class=\"dataframe\">\n",
       "  <thead>\n",
       "    <tr style=\"text-align: right;\">\n",
       "      <th></th>\n",
       "      <th>Date</th>\n",
       "      <th>Symbol</th>\n",
       "      <th>Series</th>\n",
       "      <th>Prev Close</th>\n",
       "      <th>Open</th>\n",
       "      <th>High</th>\n",
       "      <th>Low</th>\n",
       "      <th>Last</th>\n",
       "      <th>Close</th>\n",
       "      <th>VWAP</th>\n",
       "      <th>Volume</th>\n",
       "      <th>Turnover</th>\n",
       "      <th>Trades</th>\n",
       "      <th>Deliverable Volume</th>\n",
       "      <th>%Deliverble</th>\n",
       "    </tr>\n",
       "  </thead>\n",
       "  <tbody>\n",
       "    <tr>\n",
       "      <th>0</th>\n",
       "      <td>2007-11-27</td>\n",
       "      <td>MUNDRAPORT</td>\n",
       "      <td>EQ</td>\n",
       "      <td>440.00</td>\n",
       "      <td>770.00</td>\n",
       "      <td>1050.00</td>\n",
       "      <td>770.0</td>\n",
       "      <td>959.0</td>\n",
       "      <td>962.90</td>\n",
       "      <td>984.72</td>\n",
       "      <td>27294366</td>\n",
       "      <td>2.687719e+15</td>\n",
       "      <td>NaN</td>\n",
       "      <td>9859619.0</td>\n",
       "      <td>0.3612</td>\n",
       "    </tr>\n",
       "    <tr>\n",
       "      <th>1</th>\n",
       "      <td>2007-11-28</td>\n",
       "      <td>MUNDRAPORT</td>\n",
       "      <td>EQ</td>\n",
       "      <td>962.90</td>\n",
       "      <td>984.00</td>\n",
       "      <td>990.00</td>\n",
       "      <td>874.0</td>\n",
       "      <td>885.0</td>\n",
       "      <td>893.90</td>\n",
       "      <td>941.38</td>\n",
       "      <td>4581338</td>\n",
       "      <td>4.312765e+14</td>\n",
       "      <td>NaN</td>\n",
       "      <td>1453278.0</td>\n",
       "      <td>0.3172</td>\n",
       "    </tr>\n",
       "    <tr>\n",
       "      <th>2</th>\n",
       "      <td>2007-11-29</td>\n",
       "      <td>MUNDRAPORT</td>\n",
       "      <td>EQ</td>\n",
       "      <td>893.90</td>\n",
       "      <td>909.00</td>\n",
       "      <td>914.75</td>\n",
       "      <td>841.0</td>\n",
       "      <td>887.0</td>\n",
       "      <td>884.20</td>\n",
       "      <td>888.09</td>\n",
       "      <td>5124121</td>\n",
       "      <td>4.550658e+14</td>\n",
       "      <td>NaN</td>\n",
       "      <td>1069678.0</td>\n",
       "      <td>0.2088</td>\n",
       "    </tr>\n",
       "    <tr>\n",
       "      <th>3</th>\n",
       "      <td>2007-11-30</td>\n",
       "      <td>MUNDRAPORT</td>\n",
       "      <td>EQ</td>\n",
       "      <td>884.20</td>\n",
       "      <td>890.00</td>\n",
       "      <td>958.00</td>\n",
       "      <td>890.0</td>\n",
       "      <td>929.0</td>\n",
       "      <td>921.55</td>\n",
       "      <td>929.17</td>\n",
       "      <td>4609762</td>\n",
       "      <td>4.283257e+14</td>\n",
       "      <td>NaN</td>\n",
       "      <td>1260913.0</td>\n",
       "      <td>0.2735</td>\n",
       "    </tr>\n",
       "    <tr>\n",
       "      <th>4</th>\n",
       "      <td>2007-12-03</td>\n",
       "      <td>MUNDRAPORT</td>\n",
       "      <td>EQ</td>\n",
       "      <td>921.55</td>\n",
       "      <td>939.75</td>\n",
       "      <td>995.00</td>\n",
       "      <td>922.0</td>\n",
       "      <td>980.0</td>\n",
       "      <td>969.30</td>\n",
       "      <td>965.65</td>\n",
       "      <td>2977470</td>\n",
       "      <td>2.875200e+14</td>\n",
       "      <td>NaN</td>\n",
       "      <td>816123.0</td>\n",
       "      <td>0.2741</td>\n",
       "    </tr>\n",
       "  </tbody>\n",
       "</table>\n",
       "</div>"
      ],
      "text/plain": [
       "         Date      Symbol Series  Prev Close    Open     High    Low   Last  \\\n",
       "0  2007-11-27  MUNDRAPORT     EQ      440.00  770.00  1050.00  770.0  959.0   \n",
       "1  2007-11-28  MUNDRAPORT     EQ      962.90  984.00   990.00  874.0  885.0   \n",
       "2  2007-11-29  MUNDRAPORT     EQ      893.90  909.00   914.75  841.0  887.0   \n",
       "3  2007-11-30  MUNDRAPORT     EQ      884.20  890.00   958.00  890.0  929.0   \n",
       "4  2007-12-03  MUNDRAPORT     EQ      921.55  939.75   995.00  922.0  980.0   \n",
       "\n",
       "    Close    VWAP    Volume      Turnover  Trades  Deliverable Volume  \\\n",
       "0  962.90  984.72  27294366  2.687719e+15     NaN           9859619.0   \n",
       "1  893.90  941.38   4581338  4.312765e+14     NaN           1453278.0   \n",
       "2  884.20  888.09   5124121  4.550658e+14     NaN           1069678.0   \n",
       "3  921.55  929.17   4609762  4.283257e+14     NaN           1260913.0   \n",
       "4  969.30  965.65   2977470  2.875200e+14     NaN            816123.0   \n",
       "\n",
       "   %Deliverble  \n",
       "0       0.3612  \n",
       "1       0.3172  \n",
       "2       0.2088  \n",
       "3       0.2735  \n",
       "4       0.2741  "
      ]
     },
     "execution_count": 8,
     "metadata": {},
     "output_type": "execute_result"
    }
   ],
   "source": [
    "quants = pd.read_csv('F:/Projects (Resume)/NIfty 50/Stocks/NIFTY50_all.csv')\n",
    "quants.head()"
   ]
  },
  {
   "cell_type": "code",
   "execution_count": 9,
   "id": "1105b1f1",
   "metadata": {},
   "outputs": [
    {
     "data": {
      "text/html": [
       "<div>\n",
       "<style scoped>\n",
       "    .dataframe tbody tr th:only-of-type {\n",
       "        vertical-align: middle;\n",
       "    }\n",
       "\n",
       "    .dataframe tbody tr th {\n",
       "        vertical-align: top;\n",
       "    }\n",
       "\n",
       "    .dataframe thead th {\n",
       "        text-align: right;\n",
       "    }\n",
       "</style>\n",
       "<table border=\"1\" class=\"dataframe\">\n",
       "  <thead>\n",
       "    <tr style=\"text-align: right;\">\n",
       "      <th></th>\n",
       "      <th>Company Name</th>\n",
       "      <th>Industry</th>\n",
       "      <th>Symbol</th>\n",
       "      <th>Series</th>\n",
       "      <th>ISIN Code</th>\n",
       "    </tr>\n",
       "  </thead>\n",
       "  <tbody>\n",
       "    <tr>\n",
       "      <th>0</th>\n",
       "      <td>Adani Ports and Special Economic Zone Ltd.</td>\n",
       "      <td>SERVICES</td>\n",
       "      <td>ADANIPORTS</td>\n",
       "      <td>EQ</td>\n",
       "      <td>INE742F01042</td>\n",
       "    </tr>\n",
       "    <tr>\n",
       "      <th>1</th>\n",
       "      <td>Asian Paints Ltd.</td>\n",
       "      <td>CONSUMER GOODS</td>\n",
       "      <td>ASIANPAINT</td>\n",
       "      <td>EQ</td>\n",
       "      <td>INE021A01026</td>\n",
       "    </tr>\n",
       "    <tr>\n",
       "      <th>2</th>\n",
       "      <td>Axis Bank Ltd.</td>\n",
       "      <td>FINANCIAL SERVICES</td>\n",
       "      <td>AXISBANK</td>\n",
       "      <td>EQ</td>\n",
       "      <td>INE238A01034</td>\n",
       "    </tr>\n",
       "    <tr>\n",
       "      <th>3</th>\n",
       "      <td>Bajaj Auto Ltd.</td>\n",
       "      <td>AUTOMOBILE</td>\n",
       "      <td>BAJAJ-AUTO</td>\n",
       "      <td>EQ</td>\n",
       "      <td>INE917I01010</td>\n",
       "    </tr>\n",
       "    <tr>\n",
       "      <th>4</th>\n",
       "      <td>Bajaj Finserv Ltd.</td>\n",
       "      <td>FINANCIAL SERVICES</td>\n",
       "      <td>BAJAJFINSV</td>\n",
       "      <td>EQ</td>\n",
       "      <td>INE918I01018</td>\n",
       "    </tr>\n",
       "  </tbody>\n",
       "</table>\n",
       "</div>"
      ],
      "text/plain": [
       "                                 Company Name            Industry      Symbol  \\\n",
       "0  Adani Ports and Special Economic Zone Ltd.            SERVICES  ADANIPORTS   \n",
       "1                           Asian Paints Ltd.      CONSUMER GOODS  ASIANPAINT   \n",
       "2                              Axis Bank Ltd.  FINANCIAL SERVICES    AXISBANK   \n",
       "3                             Bajaj Auto Ltd.          AUTOMOBILE  BAJAJ-AUTO   \n",
       "4                          Bajaj Finserv Ltd.  FINANCIAL SERVICES  BAJAJFINSV   \n",
       "\n",
       "  Series     ISIN Code  \n",
       "0     EQ  INE742F01042  \n",
       "1     EQ  INE021A01026  \n",
       "2     EQ  INE238A01034  \n",
       "3     EQ  INE917I01010  \n",
       "4     EQ  INE918I01018  "
      ]
     },
     "execution_count": 9,
     "metadata": {},
     "output_type": "execute_result"
    }
   ],
   "source": [
    "qual = pd.read_csv('F:/Projects (Resume)/NIfty 50/Stocks/stock_metadata.csv')\n",
    "qual.head()"
   ]
  },
  {
   "cell_type": "code",
   "execution_count": 10,
   "id": "edc14d9d",
   "metadata": {},
   "outputs": [
    {
     "data": {
      "text/html": [
       "<div>\n",
       "<style scoped>\n",
       "    .dataframe tbody tr th:only-of-type {\n",
       "        vertical-align: middle;\n",
       "    }\n",
       "\n",
       "    .dataframe tbody tr th {\n",
       "        vertical-align: top;\n",
       "    }\n",
       "\n",
       "    .dataframe thead th {\n",
       "        text-align: right;\n",
       "    }\n",
       "</style>\n",
       "<table border=\"1\" class=\"dataframe\">\n",
       "  <thead>\n",
       "    <tr style=\"text-align: right;\">\n",
       "      <th></th>\n",
       "      <th>Date</th>\n",
       "      <th>Symbol</th>\n",
       "      <th>Series</th>\n",
       "      <th>Prev Close</th>\n",
       "      <th>Open</th>\n",
       "      <th>High</th>\n",
       "      <th>Low</th>\n",
       "      <th>Last</th>\n",
       "      <th>Close</th>\n",
       "      <th>VWAP</th>\n",
       "      <th>Volume</th>\n",
       "      <th>Turnover</th>\n",
       "      <th>Trades</th>\n",
       "      <th>Deliverable Volume</th>\n",
       "      <th>%Deliverble</th>\n",
       "      <th>Company Name</th>\n",
       "      <th>Industry</th>\n",
       "      <th>ISIN Code</th>\n",
       "    </tr>\n",
       "  </thead>\n",
       "  <tbody>\n",
       "    <tr>\n",
       "      <th>0</th>\n",
       "      <td>2012-01-17</td>\n",
       "      <td>ADANIPORTS</td>\n",
       "      <td>EQ</td>\n",
       "      <td>135.5</td>\n",
       "      <td>137.1</td>\n",
       "      <td>141.00</td>\n",
       "      <td>135.00</td>\n",
       "      <td>140.1</td>\n",
       "      <td>140.00</td>\n",
       "      <td>138.13</td>\n",
       "      <td>1636196</td>\n",
       "      <td>2.260074e+13</td>\n",
       "      <td>18374.0</td>\n",
       "      <td>1004327.0</td>\n",
       "      <td>0.6138</td>\n",
       "      <td>Adani Ports and Special Economic Zone Ltd.</td>\n",
       "      <td>SERVICES</td>\n",
       "      <td>INE742F01042</td>\n",
       "    </tr>\n",
       "    <tr>\n",
       "      <th>1</th>\n",
       "      <td>2012-01-18</td>\n",
       "      <td>ADANIPORTS</td>\n",
       "      <td>EQ</td>\n",
       "      <td>140.0</td>\n",
       "      <td>142.0</td>\n",
       "      <td>143.80</td>\n",
       "      <td>138.70</td>\n",
       "      <td>143.0</td>\n",
       "      <td>141.70</td>\n",
       "      <td>141.25</td>\n",
       "      <td>890591</td>\n",
       "      <td>1.257986e+13</td>\n",
       "      <td>15615.0</td>\n",
       "      <td>404925.0</td>\n",
       "      <td>0.4547</td>\n",
       "      <td>Adani Ports and Special Economic Zone Ltd.</td>\n",
       "      <td>SERVICES</td>\n",
       "      <td>INE742F01042</td>\n",
       "    </tr>\n",
       "    <tr>\n",
       "      <th>2</th>\n",
       "      <td>2012-01-19</td>\n",
       "      <td>ADANIPORTS</td>\n",
       "      <td>EQ</td>\n",
       "      <td>141.7</td>\n",
       "      <td>144.0</td>\n",
       "      <td>150.55</td>\n",
       "      <td>143.15</td>\n",
       "      <td>149.5</td>\n",
       "      <td>149.40</td>\n",
       "      <td>146.72</td>\n",
       "      <td>1456077</td>\n",
       "      <td>2.136382e+13</td>\n",
       "      <td>31299.0</td>\n",
       "      <td>721545.0</td>\n",
       "      <td>0.4955</td>\n",
       "      <td>Adani Ports and Special Economic Zone Ltd.</td>\n",
       "      <td>SERVICES</td>\n",
       "      <td>INE742F01042</td>\n",
       "    </tr>\n",
       "    <tr>\n",
       "      <th>3</th>\n",
       "      <td>2012-01-20</td>\n",
       "      <td>ADANIPORTS</td>\n",
       "      <td>EQ</td>\n",
       "      <td>149.4</td>\n",
       "      <td>151.9</td>\n",
       "      <td>157.60</td>\n",
       "      <td>150.25</td>\n",
       "      <td>155.4</td>\n",
       "      <td>155.40</td>\n",
       "      <td>153.76</td>\n",
       "      <td>1634070</td>\n",
       "      <td>2.512583e+13</td>\n",
       "      <td>23335.0</td>\n",
       "      <td>861145.0</td>\n",
       "      <td>0.5270</td>\n",
       "      <td>Adani Ports and Special Economic Zone Ltd.</td>\n",
       "      <td>SERVICES</td>\n",
       "      <td>INE742F01042</td>\n",
       "    </tr>\n",
       "    <tr>\n",
       "      <th>4</th>\n",
       "      <td>2012-01-23</td>\n",
       "      <td>ADANIPORTS</td>\n",
       "      <td>EQ</td>\n",
       "      <td>155.4</td>\n",
       "      <td>155.4</td>\n",
       "      <td>155.40</td>\n",
       "      <td>145.10</td>\n",
       "      <td>146.4</td>\n",
       "      <td>146.75</td>\n",
       "      <td>149.54</td>\n",
       "      <td>1657609</td>\n",
       "      <td>2.478768e+13</td>\n",
       "      <td>12400.0</td>\n",
       "      <td>820653.0</td>\n",
       "      <td>0.4951</td>\n",
       "      <td>Adani Ports and Special Economic Zone Ltd.</td>\n",
       "      <td>SERVICES</td>\n",
       "      <td>INE742F01042</td>\n",
       "    </tr>\n",
       "  </tbody>\n",
       "</table>\n",
       "</div>"
      ],
      "text/plain": [
       "         Date      Symbol Series  Prev Close   Open    High     Low   Last  \\\n",
       "0  2012-01-17  ADANIPORTS     EQ       135.5  137.1  141.00  135.00  140.1   \n",
       "1  2012-01-18  ADANIPORTS     EQ       140.0  142.0  143.80  138.70  143.0   \n",
       "2  2012-01-19  ADANIPORTS     EQ       141.7  144.0  150.55  143.15  149.5   \n",
       "3  2012-01-20  ADANIPORTS     EQ       149.4  151.9  157.60  150.25  155.4   \n",
       "4  2012-01-23  ADANIPORTS     EQ       155.4  155.4  155.40  145.10  146.4   \n",
       "\n",
       "    Close    VWAP   Volume      Turnover   Trades  Deliverable Volume  \\\n",
       "0  140.00  138.13  1636196  2.260074e+13  18374.0           1004327.0   \n",
       "1  141.70  141.25   890591  1.257986e+13  15615.0            404925.0   \n",
       "2  149.40  146.72  1456077  2.136382e+13  31299.0            721545.0   \n",
       "3  155.40  153.76  1634070  2.512583e+13  23335.0            861145.0   \n",
       "4  146.75  149.54  1657609  2.478768e+13  12400.0            820653.0   \n",
       "\n",
       "   %Deliverble                                Company Name  Industry  \\\n",
       "0       0.6138  Adani Ports and Special Economic Zone Ltd.  SERVICES   \n",
       "1       0.4547  Adani Ports and Special Economic Zone Ltd.  SERVICES   \n",
       "2       0.4955  Adani Ports and Special Economic Zone Ltd.  SERVICES   \n",
       "3       0.5270  Adani Ports and Special Economic Zone Ltd.  SERVICES   \n",
       "4       0.4951  Adani Ports and Special Economic Zone Ltd.  SERVICES   \n",
       "\n",
       "      ISIN Code  \n",
       "0  INE742F01042  \n",
       "1  INE742F01042  \n",
       "2  INE742F01042  \n",
       "3  INE742F01042  \n",
       "4  INE742F01042  "
      ]
     },
     "execution_count": 10,
     "metadata": {},
     "output_type": "execute_result"
    }
   ],
   "source": [
    "nifty = pd.merge(quants, qual, on = ['Symbol', 'Series'], how = 'inner')\n",
    "nifty.head()"
   ]
  },
  {
   "cell_type": "code",
   "execution_count": 11,
   "id": "52c4b210",
   "metadata": {},
   "outputs": [
    {
     "name": "stdout",
     "output_type": "stream",
     "text": [
      "<class 'pandas.core.frame.DataFrame'>\n",
      "RangeIndex: 207850 entries, 0 to 207849\n",
      "Data columns (total 18 columns):\n",
      " #   Column              Non-Null Count   Dtype  \n",
      "---  ------              --------------   -----  \n",
      " 0   Date                207850 non-null  object \n",
      " 1   Symbol              207850 non-null  object \n",
      " 2   Series              207850 non-null  object \n",
      " 3   Prev Close          207850 non-null  float64\n",
      " 4   Open                207850 non-null  float64\n",
      " 5   High                207850 non-null  float64\n",
      " 6   Low                 207850 non-null  float64\n",
      " 7   Last                207850 non-null  float64\n",
      " 8   Close               207850 non-null  float64\n",
      " 9   VWAP                207850 non-null  float64\n",
      " 10  Volume              207850 non-null  int64  \n",
      " 11  Turnover            207850 non-null  float64\n",
      " 12  Trades              118547 non-null  float64\n",
      " 13  Deliverable Volume  197043 non-null  float64\n",
      " 14  %Deliverble         197043 non-null  float64\n",
      " 15  Company Name        207850 non-null  object \n",
      " 16  Industry            207850 non-null  object \n",
      " 17  ISIN Code           207850 non-null  object \n",
      "dtypes: float64(11), int64(1), object(6)\n",
      "memory usage: 28.5+ MB\n"
     ]
    }
   ],
   "source": [
    "nifty.info()"
   ]
  },
  {
   "cell_type": "code",
   "execution_count": 12,
   "id": "89e77f32",
   "metadata": {},
   "outputs": [
    {
     "data": {
      "text/plain": [
       "Index(['Date', 'Symbol', 'Series', 'Prev Close', 'Open', 'High', 'Low', 'Last',\n",
       "       'Close', 'VWAP', 'Volume', 'Turnover', 'Trades', 'Deliverable Volume',\n",
       "       '%Deliverble', 'Company Name', 'Industry', 'ISIN Code'],\n",
       "      dtype='object')"
      ]
     },
     "execution_count": 12,
     "metadata": {},
     "output_type": "execute_result"
    }
   ],
   "source": [
    "nifty.columns\n"
   ]
  },
  {
   "cell_type": "code",
   "execution_count": 13,
   "id": "9cb7c0ad",
   "metadata": {},
   "outputs": [
    {
     "data": {
      "text/html": [
       "<div>\n",
       "<style scoped>\n",
       "    .dataframe tbody tr th:only-of-type {\n",
       "        vertical-align: middle;\n",
       "    }\n",
       "\n",
       "    .dataframe tbody tr th {\n",
       "        vertical-align: top;\n",
       "    }\n",
       "\n",
       "    .dataframe thead th {\n",
       "        text-align: right;\n",
       "    }\n",
       "</style>\n",
       "<table border=\"1\" class=\"dataframe\">\n",
       "  <thead>\n",
       "    <tr style=\"text-align: right;\">\n",
       "      <th></th>\n",
       "      <th>Prev Close</th>\n",
       "      <th>Open</th>\n",
       "      <th>High</th>\n",
       "      <th>Low</th>\n",
       "      <th>Last</th>\n",
       "      <th>Close</th>\n",
       "      <th>VWAP</th>\n",
       "      <th>Volume</th>\n",
       "      <th>Turnover</th>\n",
       "      <th>Trades</th>\n",
       "      <th>Deliverable Volume</th>\n",
       "      <th>%Deliverble</th>\n",
       "    </tr>\n",
       "  </thead>\n",
       "  <tbody>\n",
       "    <tr>\n",
       "      <th>count</th>\n",
       "      <td>207850.000000</td>\n",
       "      <td>207850.000000</td>\n",
       "      <td>207850.000000</td>\n",
       "      <td>207850.000000</td>\n",
       "      <td>207850.000000</td>\n",
       "      <td>207850.000000</td>\n",
       "      <td>207850.000000</td>\n",
       "      <td>2.078500e+05</td>\n",
       "      <td>2.078500e+05</td>\n",
       "      <td>1.185470e+05</td>\n",
       "      <td>1.970430e+05</td>\n",
       "      <td>197043.000000</td>\n",
       "    </tr>\n",
       "    <tr>\n",
       "      <th>mean</th>\n",
       "      <td>1340.460244</td>\n",
       "      <td>1342.134724</td>\n",
       "      <td>1361.592898</td>\n",
       "      <td>1321.200659</td>\n",
       "      <td>1340.740087</td>\n",
       "      <td>1340.923183</td>\n",
       "      <td>1341.483924</td>\n",
       "      <td>3.255233e+06</td>\n",
       "      <td>1.736416e+14</td>\n",
       "      <td>6.243886e+04</td>\n",
       "      <td>1.398598e+06</td>\n",
       "      <td>0.502153</td>\n",
       "    </tr>\n",
       "    <tr>\n",
       "      <th>std</th>\n",
       "      <td>2702.270279</td>\n",
       "      <td>2706.425324</td>\n",
       "      <td>2741.923161</td>\n",
       "      <td>2666.559815</td>\n",
       "      <td>2702.448168</td>\n",
       "      <td>2703.245137</td>\n",
       "      <td>2703.762675</td>\n",
       "      <td>7.722111e+06</td>\n",
       "      <td>3.462227e+14</td>\n",
       "      <td>6.899840e+04</td>\n",
       "      <td>2.959925e+06</td>\n",
       "      <td>0.187072</td>\n",
       "    </tr>\n",
       "    <tr>\n",
       "      <th>min</th>\n",
       "      <td>2.000000</td>\n",
       "      <td>8.500000</td>\n",
       "      <td>9.750000</td>\n",
       "      <td>8.500000</td>\n",
       "      <td>9.100000</td>\n",
       "      <td>9.150000</td>\n",
       "      <td>9.210000</td>\n",
       "      <td>2.500000e+01</td>\n",
       "      <td>6.300000e+07</td>\n",
       "      <td>1.100000e+01</td>\n",
       "      <td>5.000000e+00</td>\n",
       "      <td>0.023600</td>\n",
       "    </tr>\n",
       "    <tr>\n",
       "      <th>25%</th>\n",
       "      <td>306.450000</td>\n",
       "      <td>306.800000</td>\n",
       "      <td>311.950000</td>\n",
       "      <td>301.412500</td>\n",
       "      <td>306.550000</td>\n",
       "      <td>306.550000</td>\n",
       "      <td>306.800000</td>\n",
       "      <td>2.480170e+05</td>\n",
       "      <td>2.106337e+13</td>\n",
       "      <td>2.210500e+04</td>\n",
       "      <td>1.374100e+05</td>\n",
       "      <td>0.366300</td>\n",
       "    </tr>\n",
       "    <tr>\n",
       "      <th>50%</th>\n",
       "      <td>616.100000</td>\n",
       "      <td>617.000000</td>\n",
       "      <td>627.800000</td>\n",
       "      <td>605.200000</td>\n",
       "      <td>616.000000</td>\n",
       "      <td>616.250000</td>\n",
       "      <td>616.755000</td>\n",
       "      <td>1.100108e+06</td>\n",
       "      <td>7.835530e+13</td>\n",
       "      <td>4.453200e+04</td>\n",
       "      <td>5.393670e+05</td>\n",
       "      <td>0.511000</td>\n",
       "    </tr>\n",
       "    <tr>\n",
       "      <th>75%</th>\n",
       "      <td>1291.487500</td>\n",
       "      <td>1293.000000</td>\n",
       "      <td>1312.350000</td>\n",
       "      <td>1272.000000</td>\n",
       "      <td>1291.000000</td>\n",
       "      <td>1291.700000</td>\n",
       "      <td>1292.385000</td>\n",
       "      <td>3.236001e+06</td>\n",
       "      <td>1.997729e+14</td>\n",
       "      <td>7.952000e+04</td>\n",
       "      <td>1.567378e+06</td>\n",
       "      <td>0.636600</td>\n",
       "    </tr>\n",
       "    <tr>\n",
       "      <th>max</th>\n",
       "      <td>32861.950000</td>\n",
       "      <td>33399.950000</td>\n",
       "      <td>33480.000000</td>\n",
       "      <td>32468.100000</td>\n",
       "      <td>32849.000000</td>\n",
       "      <td>32861.950000</td>\n",
       "      <td>32975.240000</td>\n",
       "      <td>4.810589e+08</td>\n",
       "      <td>3.564334e+16</td>\n",
       "      <td>1.643015e+06</td>\n",
       "      <td>2.325307e+08</td>\n",
       "      <td>1.000000</td>\n",
       "    </tr>\n",
       "  </tbody>\n",
       "</table>\n",
       "</div>"
      ],
      "text/plain": [
       "          Prev Close           Open           High            Low  \\\n",
       "count  207850.000000  207850.000000  207850.000000  207850.000000   \n",
       "mean     1340.460244    1342.134724    1361.592898    1321.200659   \n",
       "std      2702.270279    2706.425324    2741.923161    2666.559815   \n",
       "min         2.000000       8.500000       9.750000       8.500000   \n",
       "25%       306.450000     306.800000     311.950000     301.412500   \n",
       "50%       616.100000     617.000000     627.800000     605.200000   \n",
       "75%      1291.487500    1293.000000    1312.350000    1272.000000   \n",
       "max     32861.950000   33399.950000   33480.000000   32468.100000   \n",
       "\n",
       "                Last          Close           VWAP        Volume  \\\n",
       "count  207850.000000  207850.000000  207850.000000  2.078500e+05   \n",
       "mean     1340.740087    1340.923183    1341.483924  3.255233e+06   \n",
       "std      2702.448168    2703.245137    2703.762675  7.722111e+06   \n",
       "min         9.100000       9.150000       9.210000  2.500000e+01   \n",
       "25%       306.550000     306.550000     306.800000  2.480170e+05   \n",
       "50%       616.000000     616.250000     616.755000  1.100108e+06   \n",
       "75%      1291.000000    1291.700000    1292.385000  3.236001e+06   \n",
       "max     32849.000000   32861.950000   32975.240000  4.810589e+08   \n",
       "\n",
       "           Turnover        Trades  Deliverable Volume    %Deliverble  \n",
       "count  2.078500e+05  1.185470e+05        1.970430e+05  197043.000000  \n",
       "mean   1.736416e+14  6.243886e+04        1.398598e+06       0.502153  \n",
       "std    3.462227e+14  6.899840e+04        2.959925e+06       0.187072  \n",
       "min    6.300000e+07  1.100000e+01        5.000000e+00       0.023600  \n",
       "25%    2.106337e+13  2.210500e+04        1.374100e+05       0.366300  \n",
       "50%    7.835530e+13  4.453200e+04        5.393670e+05       0.511000  \n",
       "75%    1.997729e+14  7.952000e+04        1.567378e+06       0.636600  \n",
       "max    3.564334e+16  1.643015e+06        2.325307e+08       1.000000  "
      ]
     },
     "execution_count": 13,
     "metadata": {},
     "output_type": "execute_result"
    }
   ],
   "source": [
    "nifty.describe()"
   ]
  },
  {
   "cell_type": "code",
   "execution_count": 14,
   "id": "61971338",
   "metadata": {},
   "outputs": [
    {
     "data": {
      "text/plain": [
       "Date                      0\n",
       "Symbol                    0\n",
       "Series                    0\n",
       "Prev Close                0\n",
       "Open                      0\n",
       "High                      0\n",
       "Low                       0\n",
       "Last                      0\n",
       "Close                     0\n",
       "VWAP                      0\n",
       "Volume                    0\n",
       "Turnover                  0\n",
       "Trades                89303\n",
       "Deliverable Volume    10807\n",
       "%Deliverble           10807\n",
       "Company Name              0\n",
       "Industry                  0\n",
       "ISIN Code                 0\n",
       "dtype: int64"
      ]
     },
     "execution_count": 14,
     "metadata": {},
     "output_type": "execute_result"
    }
   ],
   "source": [
    "nifty.isnull().sum()"
   ]
  },
  {
   "cell_type": "code",
   "execution_count": 15,
   "id": "6199d98a",
   "metadata": {},
   "outputs": [
    {
     "data": {
      "text/plain": [
       "Date                  0\n",
       "Symbol                0\n",
       "Series                0\n",
       "Prev Close            0\n",
       "Open                  0\n",
       "High                  0\n",
       "Low                   0\n",
       "Last                  0\n",
       "Close                 0\n",
       "VWAP                  0\n",
       "Volume                0\n",
       "Turnover              0\n",
       "Trades                0\n",
       "Deliverable Volume    0\n",
       "%Deliverble           0\n",
       "Company Name          0\n",
       "Industry              0\n",
       "ISIN Code             0\n",
       "dtype: int64"
      ]
     },
     "execution_count": 15,
     "metadata": {},
     "output_type": "execute_result"
    }
   ],
   "source": [
    "nifty.fillna(value = 0.0, inplace = True)\n",
    "nifty.isnull().sum()"
   ]
  },
  {
   "cell_type": "code",
   "execution_count": 16,
   "id": "0d474dc7",
   "metadata": {},
   "outputs": [
    {
     "name": "stdout",
     "output_type": "stream",
     "text": [
      "datetime64[ns]\n"
     ]
    }
   ],
   "source": [
    "nifty['Date'] = pd.to_datetime(nifty['Date'])\n",
    "print(nifty['Date'].dtype)"
   ]
  },
  {
   "cell_type": "code",
   "execution_count": 18,
   "id": "1c5b1cdc",
   "metadata": {},
   "outputs": [
    {
     "name": "stdout",
     "output_type": "stream",
     "text": [
      "0        2012-01-17\n",
      "1        2012-01-18\n",
      "2        2012-01-19\n",
      "3        2012-01-20\n",
      "4        2012-01-23\n",
      "            ...    \n",
      "207845   2021-04-26\n",
      "207846   2021-04-27\n",
      "207847   2021-04-28\n",
      "207848   2021-04-29\n",
      "207849   2021-04-30\n",
      "Name: Date, Length: 207850, dtype: datetime64[ns]\n"
     ]
    }
   ],
   "source": [
    "print(nifty['Date'])"
   ]
  },
  {
   "cell_type": "markdown",
   "id": "64528d60",
   "metadata": {},
   "source": [
    "Analysis"
   ]
  },
  {
   "cell_type": "markdown",
   "id": "acbb9c20",
   "metadata": {},
   "source": [
    "1. Ranking overall, by Industry and by single title (top 5), using mean \n",
    "\n",
    "*   List item\n",
    "*   List item\n",
    "\n",
    "Volume (and Trades)**"
   ]
  },
  {
   "cell_type": "code",
   "execution_count": 19,
   "id": "9cceb70e",
   "metadata": {},
   "outputs": [
    {
     "name": "stdout",
     "output_type": "stream",
     "text": [
      "The top company by volume is Vedanta Ltd. and the top company by trade is Infosys Ltd.\n"
     ]
    }
   ],
   "source": [
    "overall_ranking = nifty.groupby('Company Name').agg({'Volume':'mean', 'Trades':'mean'}).sort_values(by = 'Trades', ascending = False)\n",
    "top_company_volume = overall_ranking['Volume'].idxmax()\n",
    "top_company_trade = overall_ranking['Trades'].idxmax()\n",
    "print(f'The top company by volume is {top_company_volume} and the top company by trade is {top_company_trade}')"
   ]
  },
  {
   "cell_type": "code",
   "execution_count": 20,
   "id": "76930b5a",
   "metadata": {},
   "outputs": [
    {
     "data": {
      "text/html": [
       "<div>\n",
       "<style scoped>\n",
       "    .dataframe tbody tr th:only-of-type {\n",
       "        vertical-align: middle;\n",
       "    }\n",
       "\n",
       "    .dataframe tbody tr th {\n",
       "        vertical-align: top;\n",
       "    }\n",
       "\n",
       "    .dataframe thead th {\n",
       "        text-align: right;\n",
       "    }\n",
       "</style>\n",
       "<table border=\"1\" class=\"dataframe\">\n",
       "  <thead>\n",
       "    <tr style=\"text-align: right;\">\n",
       "      <th></th>\n",
       "      <th>Volume</th>\n",
       "      <th>Trades</th>\n",
       "    </tr>\n",
       "    <tr>\n",
       "      <th>Company Name</th>\n",
       "      <th></th>\n",
       "      <th></th>\n",
       "    </tr>\n",
       "  </thead>\n",
       "  <tbody>\n",
       "    <tr>\n",
       "      <th>Infosys Ltd.</th>\n",
       "      <td>16.0</td>\n",
       "      <td>1.0</td>\n",
       "    </tr>\n",
       "    <tr>\n",
       "      <th>Axis Bank Ltd.</th>\n",
       "      <td>9.0</td>\n",
       "      <td>2.0</td>\n",
       "    </tr>\n",
       "    <tr>\n",
       "      <th>Vedanta Ltd.</th>\n",
       "      <td>1.0</td>\n",
       "      <td>3.0</td>\n",
       "    </tr>\n",
       "    <tr>\n",
       "      <th>Tata Motors Ltd.</th>\n",
       "      <td>2.0</td>\n",
       "      <td>4.0</td>\n",
       "    </tr>\n",
       "    <tr>\n",
       "      <th>State Bank of India</th>\n",
       "      <td>3.0</td>\n",
       "      <td>5.0</td>\n",
       "    </tr>\n",
       "  </tbody>\n",
       "</table>\n",
       "</div>"
      ],
      "text/plain": [
       "                     Volume  Trades\n",
       "Company Name                       \n",
       "Infosys Ltd.           16.0     1.0\n",
       "Axis Bank Ltd.          9.0     2.0\n",
       "Vedanta Ltd.            1.0     3.0\n",
       "Tata Motors Ltd.        2.0     4.0\n",
       "State Bank of India     3.0     5.0"
      ]
     },
     "execution_count": 20,
     "metadata": {},
     "output_type": "execute_result"
    }
   ],
   "source": [
    "company_ranks_trades = nifty.groupby('Company Name').agg({'Volume':'mean', 'Trades':'mean'}).rank(ascending = False)\n",
    "company_ranks_trades = company_ranks_trades.sort_values(by = 'Trades')\n",
    "company_ranks_trades.head()"
   ]
  },
  {
   "cell_type": "code",
   "execution_count": 21,
   "id": "20dff2cb",
   "metadata": {},
   "outputs": [
    {
     "name": "stdout",
     "output_type": "stream",
     "text": [
      " The top 5 companies by overall ranking are \n",
      "          Company Name        Volume         Trades\n",
      "0         Infosys Ltd.  4.498399e+06  112367.318144\n",
      "1       Axis Bank Ltd.  6.916522e+06   87271.385091\n",
      "2         Vedanta Ltd.  1.564060e+07   79301.257085\n",
      "3     Tata Motors Ltd.  1.247240e+07   73240.906199\n",
      "4  State Bank of India  1.003930e+07   69756.124576\n"
     ]
    },
    {
     "data": {
      "image/png": "[encoded data removed]",
      "text/plain": [
       "<Figure size 400x400 with 1 Axes>"
      ]
     },
     "metadata": {},
     "output_type": "display_data"
    }
   ],
   "source": [
    "\n",
    "# top 5 companies by overall ranking\n",
    "top_5_companies_trades = overall_ranking.head(5).reset_index()\n",
    "print(f' The top 5 companies by overall ranking are \\n{top_5_companies_trades}')\n",
    "\n",
    "# plot a graph for the top 5 companies\n",
    "plt.figure(figsize = (4,4))\n",
    "plt.bar(x = top_5_companies_trades['Company Name'], height = top_5_companies_trades['Trades'], color = '#a632a8')\n",
    "plt.xlabel('Company Name', fontsize = 8)\n",
    "plt.ylabel('Average Trades', fontsize = 8)\n",
    "plt.xticks(fontsize = 6, rotation = 45)\n",
    "plt.yticks(fontsize = 6)\n",
    "plt.title('Overall Ranking of Nifty 50 Companies by Trades', fontsize = 10)\n",
    "plt.show()"
   ]
  },
  {
   "cell_type": "markdown",
   "id": "3f80aced",
   "metadata": {},
   "source": [
    "**Data Interpretation**: Infosys, Axis Bank and Vedanta companies have the best overall ranking."
   ]
  },
  {
   "cell_type": "code",
   "execution_count": 22,
   "id": "ffe0ea20",
   "metadata": {},
   "outputs": [
    {
     "name": "stdout",
     "output_type": "stream",
     "text": [
      "The top 5 industries by Average Volume are: \n",
      "                Industry        Volume\n",
      "0                 METALS  7.027916e+06\n",
      "1                TELECOM  6.424966e+06\n",
      "2  MEDIA & ENTERTAINMENT  4.902652e+06\n",
      "3                 ENERGY  4.380083e+06\n",
      "4     FINANCIAL SERVICES  4.092180e+06\n",
      "The top 5 industries by Average Trades are: \n",
      "                   Industry        Trades\n",
      "0                   TELECOM  56740.178290\n",
      "1  FERTILISERS & PESTICIDES  51996.825081\n",
      "2              CONSTRUCTION  50305.355163\n",
      "3        FINANCIAL SERVICES  49243.809526\n",
      "4                    METALS  47912.394299\n"
     ]
    }
   ],
   "source": [
    "# top 5 industries by mean volume and trades\n",
    "\n",
    "top_industry = nifty.groupby('Industry').agg({'Volume':'mean', 'Trades':'mean'})\n",
    "\n",
    "# top 5 industries by mean volume\n",
    "top_industry_volume = top_industry['Volume'].sort_values(ascending = False).head().to_frame().reset_index()\n",
    "print(f'The top 5 industries by Average Volume are: \\n{top_industry_volume}')\n",
    "\n",
    "# top 5 industries by mean trades\n",
    "top_industry_trades = top_industry['Trades'].sort_values(ascending = False).head().to_frame().reset_index()\n",
    "print(f'The top 5 industries by Average Trades are: \\n{top_industry_trades}')"
   ]
  },
  {
   "cell_type": "code",
   "execution_count": 23,
   "id": "b23d6708",
   "metadata": {},
   "outputs": [
    {
     "name": "stderr",
     "output_type": "stream",
     "text": [
      "C:\\Users\\HP\\AppData\\Local\\Temp\\ipykernel_5648\\3435903108.py:4: FutureWarning: \n",
      "\n",
      "Passing `palette` without assigning `hue` is deprecated and will be removed in v0.14.0. Assign the `y` variable to `hue` and set `legend=False` for the same effect.\n",
      "\n",
      "  sns.barplot(data=top_industry_volume, y='Industry', x='Volume', palette='viridis')\n"
     ]
    },
    {
     "data": {
      "image/png": "[encoded data removed]",
      "text/plain": [
       "<Figure size 600x300 with 1 Axes>"
      ]
     },
     "metadata": {},
     "output_type": "display_data"
    }
   ],
   "source": [
    "# plot top 5 industries by average volume\n",
    "\n",
    "plt.figure(figsize=(6, 3))\n",
    "sns.barplot(data=top_industry_volume, y='Industry', x='Volume', palette='viridis')\n",
    "plt.xlabel('Average Volume', fontsize = 8)\n",
    "plt.ylabel('Industry', fontsize = 8)\n",
    "plt.xticks(fontsize = 6)\n",
    "plt.yticks(fontsize = 6)\n",
    "plt.title('Top 5 Industries by Highest Average Volume', fontsize = 10)\n",
    "plt.show()"
   ]
  },
  {
   "cell_type": "markdown",
   "id": "01cbfdfe",
   "metadata": {},
   "source": [
    "**Data Interpretation:**\n",
    "Metals industry has the highest average volume of stocks followed by telecom industry."
   ]
  },
  {
   "cell_type": "code",
   "execution_count": 24,
   "id": "9b66d64d",
   "metadata": {},
   "outputs": [
    {
     "name": "stderr",
     "output_type": "stream",
     "text": [
      "C:\\Users\\HP\\AppData\\Local\\Temp\\ipykernel_5648\\105344690.py:4: FutureWarning: \n",
      "\n",
      "Passing `palette` without assigning `hue` is deprecated and will be removed in v0.14.0. Assign the `y` variable to `hue` and set `legend=False` for the same effect.\n",
      "\n",
      "  sns.barplot(data=top_industry_trades, y = 'Industry', x = 'Trades', palette='viridis')\n"
     ]
    },
    {
     "data": {
      "image/png": "[encoded data removed]",
      "text/plain": [
       "<Figure size 600x300 with 1 Axes>"
      ]
     },
     "metadata": {},
     "output_type": "display_data"
    }
   ],
   "source": [
    "# plot top 5 industries by average trades\n",
    "\n",
    "plt.figure(figsize=(6, 3))\n",
    "sns.barplot(data=top_industry_trades, y = 'Industry', x = 'Trades', palette='viridis')\n",
    "plt.xlabel('Average Trades', fontsize = 8)\n",
    "plt.ylabel('Industry', fontsize = 8)\n",
    "plt.xticks(fontsize = 6)\n",
    "plt.yticks(fontsize = 6)\n",
    "plt.title('Top 5 Industries by Highest Average Trades', fontsize = 10)\n",
    "plt.show()"
   ]
  },
  {
   "cell_type": "markdown",
   "id": "98d6b1a3",
   "metadata": {},
   "source": [
    "**Data Interpretation:**\n",
    "Telecom industry with 56,740 has the highest average trading of stocks followed by Fertilisers & Pesticides industry with 51996 average no: of trades."
   ]
  },
  {
   "cell_type": "code",
   "execution_count": 25,
   "id": "d91e50bf",
   "metadata": {},
   "outputs": [
    {
     "name": "stdout",
     "output_type": "stream",
     "text": [
      "The top 5 traders by Average Volume are: \n",
      "       Symbol        Volume\n",
      "0        VEDL  1.564060e+07\n",
      "1  TATAMOTORS  1.247240e+07\n",
      "2        SBIN  1.003930e+07\n",
      "3    HINDALCO  9.282843e+06\n",
      "4   ICICIBANK  8.224631e+06\n",
      "The top 5 traders by Average Trades are: \n",
      "       Symbol         Trades\n",
      "0        INFY  112367.318144\n",
      "1    AXISBANK   87271.385091\n",
      "2        VEDL   79301.257085\n",
      "3  TATAMOTORS   73240.906199\n",
      "4        SBIN   69756.124576\n"
     ]
    }
   ],
   "source": [
    "# top 5 traders by mean volume and trades\n",
    "\n",
    "top_traders = nifty.groupby('Symbol').agg({'Volume':'mean', 'Trades':'mean'})\n",
    "\n",
    "# top 5 traders by mean volume\n",
    "top_traders_volume = top_traders['Volume'].sort_values(ascending = False).head().reset_index()\n",
    "print(f'The top 5 traders by Average Volume are: \\n{top_traders_volume}')\n",
    "\n",
    "# top 5 traders by mean trades\n",
    "top_traders_trades = top_traders['Trades'].sort_values(ascending = False).head().reset_index()\n",
    "print(f'The top 5 traders by Average Trades are: \\n{top_traders_trades}')"
   ]
  },
  {
   "cell_type": "code",
   "execution_count": 26,
   "id": "aba25965",
   "metadata": {},
   "outputs": [
    {
     "name": "stderr",
     "output_type": "stream",
     "text": [
      "C:\\Users\\HP\\AppData\\Local\\Temp\\ipykernel_5648\\2092828430.py:4: FutureWarning: \n",
      "\n",
      "Passing `palette` without assigning `hue` is deprecated and will be removed in v0.14.0. Assign the `y` variable to `hue` and set `legend=False` for the same effect.\n",
      "\n",
      "  sns.barplot(data=top_traders_volume, y='Symbol', x='Volume', palette='magma')\n"
     ]
    },
    {
     "data": {
      "image/png": "[encoded data removed]",
      "text/plain": [
       "<Figure size 600x300 with 1 Axes>"
      ]
     },
     "metadata": {},
     "output_type": "display_data"
    }
   ],
   "source": [
    "# plot top 5 traders by average volume\n",
    "\n",
    "plt.figure(figsize=(6, 3))\n",
    "sns.barplot(data=top_traders_volume, y='Symbol', x='Volume', palette='magma')\n",
    "plt.xlabel('Average Volume', fontsize = 8)\n",
    "plt.ylabel('Trader', fontsize = 8)\n",
    "plt.xticks(fontsize = 6)\n",
    "plt.yticks(fontsize = 6)\n",
    "plt.title('Top 5 traders by Highest Average Volume', fontsize = 10)\n",
    "plt.show()"
   ]
  },
  {
   "cell_type": "markdown",
   "id": "3bd2e45f",
   "metadata": {},
   "source": [
    "**Data Interpretation:**\n",
    "Vedanta Stock has the highest average volume of stocks followed by Tatamotors stock."
   ]
  },
  {
   "cell_type": "code",
   "execution_count": 27,
   "id": "c536fa25",
   "metadata": {},
   "outputs": [
    {
     "name": "stderr",
     "output_type": "stream",
     "text": [
      "C:\\Users\\HP\\AppData\\Local\\Temp\\ipykernel_5648\\4171624186.py:4: FutureWarning: \n",
      "\n",
      "Passing `palette` without assigning `hue` is deprecated and will be removed in v0.14.0. Assign the `y` variable to `hue` and set `legend=False` for the same effect.\n",
      "\n",
      "  sns.barplot(data=top_traders_trades, y='Symbol', x='Trades', palette='magma')\n"
     ]
    },
    {
     "data": {
      "image/png": "[encoded data removed]",
      "text/plain": [
       "<Figure size 600x300 with 1 Axes>"
      ]
     },
     "metadata": {},
     "output_type": "display_data"
    }
   ],
   "source": [
    "# plot top 5 traders by average trades\n",
    "\n",
    "plt.figure(figsize=(6, 3))\n",
    "sns.barplot(data=top_traders_trades, y='Symbol', x='Trades', palette='magma')\n",
    "plt.xlabel('Average Trades', fontsize = 8)\n",
    "plt.ylabel('Trader', fontsize = 8)\n",
    "plt.xticks(fontsize = 6)\n",
    "plt.yticks(fontsize = 6)\n",
    "plt.title('Top 5 traders by Highest Average Trades', fontsize = 10)\n",
    "plt.show()"
   ]
  },
  {
   "cell_type": "markdown",
   "id": "7f330e70",
   "metadata": {},
   "source": [
    "**Data Interpretation:**\n",
    "Infosys Stock has the highest average of trades followed by Axis stock."
   ]
  },
  {
   "cell_type": "code",
   "execution_count": 28,
   "id": "8d9e88df",
   "metadata": {},
   "outputs": [
    {
     "name": "stdout",
     "output_type": "stream",
     "text": [
      "The top 5 most trading stocks since inception are: \n",
      "       Symbol        Trades             \n",
      "                       mean          sum\n",
      "0        SBIN  69756.124576  370125997.0\n",
      "1    RELIANCE  67223.229175  356686454.0\n",
      "2   ICICIBANK  64046.530908  339830893.0\n",
      "3  TATAMOTORS  73240.906199  315448583.0\n",
      "4    AXISBANK  87271.385091  296199081.0\n"
     ]
    }
   ],
   "source": [
    "# calculate the mean and sum of trades for each group of trader\n",
    "trading_since_inception = nifty.groupby('Symbol').agg({'Trades':['mean', 'sum']}).sort_values(by = ('Trades', 'sum'), ascending = False).reset_index().head(5)\n",
    "print(f'The top 5 most trading stocks since inception are: \\n{trading_since_inception}')"
   ]
  },
  {
   "cell_type": "code",
   "execution_count": 30,
   "id": "02c43e04",
   "metadata": {},
   "outputs": [
    {
     "name": "stdout",
     "output_type": "stream",
     "text": [
      "The top 5 most trading stocks since inception are: \n",
      "       Symbol        Trades             \n",
      "                       mean          sum\n",
      "0        SBIN  69756.124576  370125997.0\n",
      "1    RELIANCE  67223.229175  356686454.0\n",
      "2   ICICIBANK  64046.530908  339830893.0\n",
      "3  TATAMOTORS  73240.906199  315448583.0\n",
      "4    AXISBANK  87271.385091  296199081.0\n"
     ]
    }
   ],
   "source": [
    "# calculate the mean and sum of trades for each group of trader\n",
    "trading_since_inception = nifty.groupby('Symbol').agg({'Trades':['mean', 'sum']}).sort_values(by = ('Trades', 'sum'), ascending = False).reset_index().head(5)\n",
    "print(f'The top 5 most trading stocks since inception are: \\n{trading_since_inception}')"
   ]
  },
  {
   "cell_type": "markdown",
   "id": "750f499d",
   "metadata": {},
   "source": [
    "**Data Interpretation:**\n",
    "\n",
    "\n",
    "SBIN is the most traded stock since it's inception with a total trades of 370125997."
   ]
  },
  {
   "cell_type": "markdown",
   "id": "9e641c11",
   "metadata": {},
   "source": [
    "**5. Standard Deviation and Coefficient of Variation**\n"
   ]
  },
  {
   "cell_type": "code",
   "execution_count": 34,
   "id": "282234a4",
   "metadata": {},
   "outputs": [
    {
     "name": "stdout",
     "output_type": "stream",
     "text": [
      "The top 5 stocks with least coeffient of variation are: \n",
      "       Symbol     Close\n",
      "0  HEROMOTOCO  0.233037\n",
      "1        NTPC  0.237479\n",
      "2   COALINDIA  0.257488\n",
      "3   POWERGRID  0.296699\n",
      "4   TATASTEEL  0.322052\n",
      "5         UPL  0.346828\n",
      "6  BAJAJ-AUTO  0.353858\n",
      "7    HINDALCO  0.355664\n",
      "8          LT  0.382986\n",
      "9        VEDL  0.396787\n"
     ]
    },
    {
     "name": "stderr",
     "output_type": "stream",
     "text": [
      "C:\\Users\\HP\\AppData\\Local\\Temp\\ipykernel_5648\\170155232.py:14: FutureWarning: \n",
      "\n",
      "Passing `palette` without assigning `hue` is deprecated and will be removed in v0.14.0. Assign the `y` variable to `hue` and set `legend=False` for the same effect.\n",
      "\n",
      "  sns.barplot(data = coeff_var_low, y='Symbol', x= 'Close', palette='husl')\n"
     ]
    },
    {
     "data": {
      "image/png": "[encoded data removed]",
      "text/plain": [
       "<Figure size 600x300 with 1 Axes>"
      ]
     },
     "metadata": {},
     "output_type": "display_data"
    }
   ],
   "source": [
    "# calculate standard deviation for each stock\n",
    "standard_deviation = nifty.groupby('Symbol')['Close'].std()\n",
    "\n",
    "# calculate mean for each stock\n",
    "mean_close_price = nifty.groupby('Symbol')['Close'].mean()\n",
    "\n",
    "# calculate coefficient of variation  (CV=standard deviation/mean)\n",
    "coeff_var = standard_deviation/mean_close_price\n",
    "coeff_var_low = coeff_var.sort_values().head(10).reset_index()\n",
    "print(f'The top 5 stocks with least coeffient of variation are: \\n{coeff_var_low}')\n",
    "# plot the top 10 stocks with least coefficient of variation\n",
    "\n",
    "plt.figure(figsize=(6, 3))\n",
    "sns.barplot(data = coeff_var_low, y='Symbol', x= 'Close', palette='husl')\n",
    "plt.xlabel('Coefficient of Variation', fontsize = 8)\n",
    "plt.ylabel('Stock', fontsize = 8)\n",
    "plt.xticks(fontsize = 6)\n",
    "plt.yticks(fontsize = 6)\n",
    "plt.title('Top 5 Stocks with Least Coefficient of Variation', fontsize = 10)\n",
    "plt.show()"
   ]
  },
  {
   "cell_type": "markdown",
   "id": "eca11a62",
   "metadata": {},
   "source": [
    "**Data Interpretation:** Data Interpretation: A lower coefficient of variation generally indicates less variability in the stock's returns relative to its mean return. Therefore, stocks with the least coefficient of variation are considered to have more stable or predictable returns compared to those with higher coefficients of variation.\n",
    "\n",
    "From the above graph, we can see that HEROMOTOCO has the least coefficient of variation with 0.233 followed by NTPC with cov of 0.237."
   ]
  },
  {
   "cell_type": "code",
   "execution_count": 35,
   "id": "7194b4ff",
   "metadata": {},
   "outputs": [
    {
     "name": "stdout",
     "output_type": "stream",
     "text": [
      "The top 5 stocks with highest coeffient of variation are: \n",
      "       Symbol     Close\n",
      "0   EICHERMOT  1.437204\n",
      "1    SHREECEM  1.186481\n",
      "2  INDUSINDBK  1.138362\n",
      "3       TITAN  1.106728\n",
      "4       WIPRO  1.052599\n",
      "5  BAJAJFINSV  1.041638\n",
      "6      MARUTI  0.936998\n",
      "7        SBIN  0.888053\n",
      "8  ASIANPAINT  0.861365\n",
      "9   BRITANNIA  0.808403\n"
     ]
    },
    {
     "name": "stderr",
     "output_type": "stream",
     "text": [
      "C:\\Users\\HP\\AppData\\Local\\Temp\\ipykernel_5648\\804364867.py:6: FutureWarning: \n",
      "\n",
      "Passing `palette` without assigning `hue` is deprecated and will be removed in v0.14.0. Assign the `y` variable to `hue` and set `legend=False` for the same effect.\n",
      "\n",
      "  sns.barplot(data = coeff_var_high, y='Symbol', x= 'Close', palette='dark')\n"
     ]
    },
    {
     "data": {
      "image/png": "[encoded data removed]",
      "text/plain": [
       "<Figure size 600x300 with 1 Axes>"
      ]
     },
     "metadata": {},
     "output_type": "display_data"
    }
   ],
   "source": [
    "coeff_var_high = coeff_var.sort_values(ascending = False).head(10).reset_index()\n",
    "print(f'The top 5 stocks with highest coeffient of variation are: \\n{coeff_var_high}')\n",
    "# plot the top 10 stocks with least coefficient of variation\n",
    "\n",
    "plt.figure(figsize=(6, 3))\n",
    "sns.barplot(data = coeff_var_high, y='Symbol', x= 'Close', palette='dark')\n",
    "plt.xlabel('Coefficient of Variation', fontsize = 8)\n",
    "plt.ylabel('Stock', fontsize = 8)\n",
    "plt.xticks(fontsize = 6)\n",
    "plt.yticks(fontsize = 6)\n",
    "plt.title('Top 5 Stocks with High Coefficient of Variation', fontsize = 10)\n",
    "plt.show()"
   ]
  },
  {
   "cell_type": "markdown",
   "id": "b2102a31",
   "metadata": {},
   "source": [
    "Data Interpretation: A higher coefficient of variation generally indicates high variability in the stock's returns relative to its mean return. Therefore, stocks with the high coefficient of variation are considered to have more unstable or unpredictable returns compared to those with lower coefficients of variation.\n",
    "\n",
    "From the above graph, we can see that EICHERMOT has the highest coefficient of variation with 1.437 followed by SHREECEM with cov of 1.186."
   ]
  }
 ],
 "metadata": {
  "kernelspec": {
   "display_name": "Python 3",
   "language": "python",
   "name": "python3"
  },
  "language_info": {
   "codemirror_mode": {
    "name": "ipython",
    "version": 3
   },
   "file_extension": ".py",
   "mimetype": "text/x-python",
   "name": "python",
   "nbconvert_exporter": "python",
   "pygments_lexer": "ipython3",
   "version": "3.11.9"
  }
 },
 "nbformat": 4,
 "nbformat_minor": 5
}
